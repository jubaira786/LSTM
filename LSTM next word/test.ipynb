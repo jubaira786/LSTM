{
 "cells": [
  {
   "cell_type": "code",
   "execution_count": 8,
   "metadata": {},
   "outputs": [],
   "source": [
    "from tensorflow.keras.models import load_model\n",
    "import joblib"
   ]
  },
  {
   "cell_type": "code",
   "execution_count": 9,
   "metadata": {},
   "outputs": [
    {
     "name": "stdout",
     "output_type": "stream",
     "text": [
      "WARNING:tensorflow:From C:\\Users\\jubim\\AppData\\Local\\Packages\\PythonSoftwareFoundation.Python.3.11_qbz5n2kfra8p0\\LocalCache\\local-packages\\Python311\\site-packages\\keras\\src\\backend.py:1398: The name tf.executing_eagerly_outside_functions is deprecated. Please use tf.compat.v1.executing_eagerly_outside_functions instead.\n",
      "\n"
     ]
    }
   ],
   "source": [
    "model=load_model('next_word_prediction.h5')"
   ]
  },
  {
   "cell_type": "code",
   "execution_count": 10,
   "metadata": {},
   "outputs": [],
   "source": [
    "token=joblib.load('next_word_model_token.pkl')"
   ]
  },
  {
   "cell_type": "code",
   "execution_count": 11,
   "metadata": {},
   "outputs": [],
   "source": [
    "config=open('next_word_model_config.txt', 'rb')"
   ]
  },
  {
   "cell_type": "code",
   "execution_count": 12,
   "metadata": {},
   "outputs": [],
   "source": [
    "config=config.read()"
   ]
  },
  {
   "cell_type": "code",
   "execution_count": 16,
   "metadata": {},
   "outputs": [
    {
     "data": {
      "text/plain": [
       "b''"
      ]
     },
     "execution_count": 16,
     "metadata": {},
     "output_type": "execute_result"
    }
   ],
   "source": [
    "from tensorflow.keras.preprocessing.sequence import pad_sequences\n",
    "config"
   ]
  },
  {
   "cell_type": "code",
   "execution_count": 17,
   "metadata": {},
   "outputs": [],
   "source": [
    "import numpy as np"
   ]
  },
  {
   "cell_type": "code",
   "execution_count": 34,
   "metadata": {},
   "outputs": [],
   "source": [
    "# def predict_next_word(text, n_word):\n",
    "#     for i in range(n_word):\n",
    "#         token_data=token.texts_to_sequences([text])[0]\n",
    "#         seq_pad=pad_sequences(token_data, maxlen=4)\n",
    "#         out=model.predict(seq_pad)\n",
    "#         out_index=np.argmax(out)\n",
    "\n",
    "#         output_word=\"\"\n",
    "#         for word, index in token.word_index.items():\n",
    "#             if index==out_index:\n",
    "#                 output_word=word\n",
    "#                 break\n",
    "#             text+=\" \"+output_word\n",
    "\n",
    "#         return out\n",
    "\n",
    "def predict_next_word(text,n_word):\n",
    "    for i in range(n_word):\n",
    "        token_data=token.texts_to_sequences([text])[0]\n",
    "        seq_pad=pad_sequences([token_data],maxlen=4)\n",
    "        out=model.predict(seq_pad)\n",
    "        out_index=np.argmax(out)\n",
    "        \n",
    "        out_word=None\n",
    "        for word,index in token.word_index.items():\n",
    "            if index==out_index:\n",
    "                out_word=word\n",
    "                break\n",
    "        text+=' '+out_word\n",
    "    return text\n",
    "\n",
    "    #     for word,index in token.word_index.items():\n",
    "    #         if index==y_pred:\n",
    "    #             text+=' '+word\n",
    "    #             break\n",
    "    # return text"
   ]
  },
  {
   "cell_type": "code",
   "execution_count": 36,
   "metadata": {},
   "outputs": [
    {
     "name": "stdout",
     "output_type": "stream",
     "text": [
      "1/1 [==============================] - 0s 19ms/step\n"
     ]
    },
    {
     "data": {
      "text/plain": [
       "'this is a'"
      ]
     },
     "execution_count": 36,
     "metadata": {},
     "output_type": "execute_result"
    }
   ],
   "source": [
    "text = 'this is'\n",
    "predict_next_word(text, 1)"
   ]
  }
 ],
 "metadata": {
  "kernelspec": {
   "display_name": "Python 3",
   "language": "python",
   "name": "python3"
  },
  "language_info": {
   "codemirror_mode": {
    "name": "ipython",
    "version": 3
   },
   "file_extension": ".py",
   "mimetype": "text/x-python",
   "name": "python",
   "nbconvert_exporter": "python",
   "pygments_lexer": "ipython3",
   "version": "3.11.7"
  }
 },
 "nbformat": 4,
 "nbformat_minor": 2
}
